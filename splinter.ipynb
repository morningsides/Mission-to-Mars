{
 "metadata": {
  "language_info": {
   "codemirror_mode": {
    "name": "ipython",
    "version": 3
   },
   "file_extension": ".py",
   "mimetype": "text/x-python",
   "name": "python",
   "nbconvert_exporter": "python",
   "pygments_lexer": "ipython3",
   "version": 3
  },
  "orig_nbformat": 2,
  "kernelspec": {
   "name": "python_defaultSpec_1596558086230",
   "display_name": "Python 3.7.7 64-bit ('PythonData': conda)"
  }
 },
 "nbformat": 4,
 "nbformat_minor": 2,
 "cells": [
  {
   "cell_type": "code",
   "execution_count": 1,
   "metadata": {},
   "outputs": [],
   "source": [
    "from splinter import Browser\n",
    "from bs4 import BeautifulSoup"
   ]
  },
  {
   "cell_type": "code",
   "execution_count": 2,
   "metadata": {
    "tags": []
   },
   "outputs": [
    {
     "output_type": "stream",
     "name": "stdout",
     "text": "/usr/local/bin/chromedriver\n"
    }
   ],
   "source": [
    "# Path to chromedriver\n",
    "!which chromedriver"
   ]
  },
  {
   "cell_type": "code",
   "execution_count": 3,
   "metadata": {},
   "outputs": [],
   "source": [
    "executable_path = {'executable_path': '/usr/local/bin/chromedriver'}\n",
    "browser = Browser('chrome', **executable_path, headless=False)"
   ]
  },
  {
   "cell_type": "code",
   "execution_count": 4,
   "metadata": {},
   "outputs": [],
   "source": [
    "# Visit the Quotes to Scrape site\n",
    "url = 'http://quotes.toscrape.com/'\n",
    "browser.visit(url)"
   ]
  },
  {
   "cell_type": "code",
   "execution_count": 5,
   "metadata": {},
   "outputs": [],
   "source": [
    "# Parse the HTML\n",
    "html = browser.html\n",
    "soup = BeautifulSoup(html, 'html.parser')"
   ]
  },
  {
   "cell_type": "code",
   "execution_count": 6,
   "metadata": {},
   "outputs": [
    {
     "output_type": "execute_result",
     "data": {
      "text/plain": "'Top Ten tags'"
     },
     "metadata": {},
     "execution_count": 6
    }
   ],
   "source": [
    "# Scrape the Title\n",
    "title = soup.find('h2').text\n",
    "title"
   ]
  },
  {
   "cell_type": "code",
   "execution_count": 7,
   "metadata": {
    "tags": []
   },
   "outputs": [
    {
     "output_type": "stream",
     "name": "stdout",
     "text": "love\ninspirational\nlife\nhumor\nbooks\nreading\nfriendship\nfriends\ntruth\nsimile\n"
    }
   ],
   "source": [
    "# Scrape the top ten tags\n",
    "tag_box = soup.find('div', class_='tags-box')\n",
    "# tag_box\n",
    "tags = tag_box.find_all('a', class_='tag')\n",
    "\n",
    "for tag in tags:\n",
    "    word = tag.text\n",
    "    print(word)"
   ]
  },
  {
   "cell_type": "code",
   "execution_count": 8,
   "metadata": {},
   "outputs": [],
   "source": [
    "url = 'http://quotes.toscrape.com/'\n",
    "browser.visit(url)"
   ]
  },
  {
   "cell_type": "code",
   "execution_count": 9,
   "metadata": {
    "tags": []
   },
   "outputs": [
    {
     "output_type": "stream",
     "name": "stdout",
     "text": "page: 1 ----------\n“The world as we have created it is a process of our thinking. It cannot be changed without changing our thinking.”\npage: 1 ----------\n“It is our choices, Harry, that show what we truly are, far more than our abilities.”\npage: 1 ----------\n“There are only two ways to live your life. One is as though nothing is a miracle. The other is as though everything is a miracle.”\npage: 1 ----------\n“The person, be it gentleman or lady, who has not pleasure in a good novel, must be intolerably stupid.”\npage: 1 ----------\n“Imperfection is beauty, madness is genius and it's better to be absolutely ridiculous than absolutely boring.”\npage: 1 ----------\n“Try not to become a man of success. Rather become a man of value.”\npage: 1 ----------\n“It is better to be hated for what you are than to be loved for what you are not.”\npage: 1 ----------\n“I have not failed. I've just found 10,000 ways that won't work.”\npage: 1 ----------\n“A woman is like a tea bag; you never know how strong it is until it's in hot water.”\npage: 1 ----------\n“A day without sunshine is like, you know, night.”\npage: 2 ----------\n“The world as we have created it is a process of our thinking. It cannot be changed without changing our thinking.”\npage: 2 ----------\n“It is our choices, Harry, that show what we truly are, far more than our abilities.”\npage: 2 ----------\n“There are only two ways to live your life. One is as though nothing is a miracle. The other is as though everything is a miracle.”\npage: 2 ----------\n“The person, be it gentleman or lady, who has not pleasure in a good novel, must be intolerably stupid.”\npage: 2 ----------\n“Imperfection is beauty, madness is genius and it's better to be absolutely ridiculous than absolutely boring.”\npage: 2 ----------\n“Try not to become a man of success. Rather become a man of value.”\npage: 2 ----------\n“It is better to be hated for what you are than to be loved for what you are not.”\npage: 2 ----------\n“I have not failed. I've just found 10,000 ways that won't work.”\npage: 2 ----------\n“A woman is like a tea bag; you never know how strong it is until it's in hot water.”\npage: 2 ----------\n“A day without sunshine is like, you know, night.”\npage: 3 ----------\n“The world as we have created it is a process of our thinking. It cannot be changed without changing our thinking.”\npage: 3 ----------\n“It is our choices, Harry, that show what we truly are, far more than our abilities.”\npage: 3 ----------\n“There are only two ways to live your life. One is as though nothing is a miracle. The other is as though everything is a miracle.”\npage: 3 ----------\n“The person, be it gentleman or lady, who has not pleasure in a good novel, must be intolerably stupid.”\npage: 3 ----------\n“Imperfection is beauty, madness is genius and it's better to be absolutely ridiculous than absolutely boring.”\npage: 3 ----------\n“Try not to become a man of success. Rather become a man of value.”\npage: 3 ----------\n“It is better to be hated for what you are than to be loved for what you are not.”\npage: 3 ----------\n“I have not failed. I've just found 10,000 ways that won't work.”\npage: 3 ----------\n“A woman is like a tea bag; you never know how strong it is until it's in hot water.”\npage: 3 ----------\n“A day without sunshine is like, you know, night.”\npage: 4 ----------\n“The world as we have created it is a process of our thinking. It cannot be changed without changing our thinking.”\npage: 4 ----------\n“It is our choices, Harry, that show what we truly are, far more than our abilities.”\npage: 4 ----------\n“There are only two ways to live your life. One is as though nothing is a miracle. The other is as though everything is a miracle.”\npage: 4 ----------\n“The person, be it gentleman or lady, who has not pleasure in a good novel, must be intolerably stupid.”\npage: 4 ----------\n“Imperfection is beauty, madness is genius and it's better to be absolutely ridiculous than absolutely boring.”\npage: 4 ----------\n“Try not to become a man of success. Rather become a man of value.”\npage: 4 ----------\n“It is better to be hated for what you are than to be loved for what you are not.”\npage: 4 ----------\n“I have not failed. I've just found 10,000 ways that won't work.”\npage: 4 ----------\n“A woman is like a tea bag; you never know how strong it is until it's in hot water.”\npage: 4 ----------\n“A day without sunshine is like, you know, night.”\npage: 5 ----------\n“The world as we have created it is a process of our thinking. It cannot be changed without changing our thinking.”\npage: 5 ----------\n“It is our choices, Harry, that show what we truly are, far more than our abilities.”\npage: 5 ----------\n“There are only two ways to live your life. One is as though nothing is a miracle. The other is as though everything is a miracle.”\npage: 5 ----------\n“The person, be it gentleman or lady, who has not pleasure in a good novel, must be intolerably stupid.”\npage: 5 ----------\n“Imperfection is beauty, madness is genius and it's better to be absolutely ridiculous than absolutely boring.”\npage: 5 ----------\n“Try not to become a man of success. Rather become a man of value.”\npage: 5 ----------\n“It is better to be hated for what you are than to be loved for what you are not.”\npage: 5 ----------\n“I have not failed. I've just found 10,000 ways that won't work.”\npage: 5 ----------\n“A woman is like a tea bag; you never know how strong it is until it's in hot water.”\npage: 5 ----------\n“A day without sunshine is like, you know, night.”\n"
    }
   ],
   "source": [
    "for x in range(1, 6):\n",
    "   html = browser.html\n",
    "   soup = BeautifulSoup (html, 'html.parser')\n",
    "   quotes = soup.find_all('span', class_='text')\n",
    "   for quote in quotes:\n",
    "      print('page:', x, '----------')\n",
    "      print(quote.text)\n",
    "   browser.links.find_by_partial_text('Next')"
   ]
  },
  {
   "cell_type": "code",
   "execution_count": 10,
   "metadata": {},
   "outputs": [],
   "source": [
    "url = 'http://books.toscrape.com/'\n",
    "browser.visit(url)"
   ]
  },
  {
   "cell_type": "code",
   "execution_count": 34,
   "metadata": {
    "tags": []
   },
   "outputs": [
    {
     "output_type": "stream",
     "name": "stdout",
     "text": "[<a href=\"catalogue/category/books_1/index.html\">\n                            \n                                Books\n                            \n                        </a>, <a href=\"catalogue/category/books/travel_2/index.html\">\n                            \n                                Travel\n                            \n                        </a>, <a href=\"catalogue/category/books/mystery_3/index.html\">\n                            \n                                Mystery\n                            \n                        </a>, <a href=\"catalogue/category/books/historical-fiction_4/index.html\">\n                            \n                                Historical Fiction\n                            \n                        </a>, <a href=\"catalogue/category/books/sequential-art_5/index.html\">\n                            \n                                Sequential Art\n                            \n                        </a>, <a href=\"catalogue/category/books/classics_6/index.html\">\n                            \n                                Classics\n                            \n                        </a>, <a href=\"catalogue/category/books/philosophy_7/index.html\">\n                            \n                                Philosophy\n                            \n                        </a>, <a href=\"catalogue/category/books/romance_8/index.html\">\n                            \n                                Romance\n                            \n                        </a>, <a href=\"catalogue/category/books/womens-fiction_9/index.html\">\n                            \n                                Womens Fiction\n                            \n                        </a>, <a href=\"catalogue/category/books/fiction_10/index.html\">\n                            \n                                Fiction\n                            \n                        </a>, <a href=\"catalogue/category/books/childrens_11/index.html\">\n                            \n                                Childrens\n                            \n                        </a>, <a href=\"catalogue/category/books/religion_12/index.html\">\n                            \n                                Religion\n                            \n                        </a>, <a href=\"catalogue/category/books/nonfiction_13/index.html\">\n                            \n                                Nonfiction\n                            \n                        </a>, <a href=\"catalogue/category/books/music_14/index.html\">\n                            \n                                Music\n                            \n                        </a>, <a href=\"catalogue/category/books/default_15/index.html\">\n                            \n                                Default\n                            \n                        </a>, <a href=\"catalogue/category/books/science-fiction_16/index.html\">\n                            \n                                Science Fiction\n                            \n                        </a>, <a href=\"catalogue/category/books/sports-and-games_17/index.html\">\n                            \n                                Sports and Games\n                            \n                        </a>, <a href=\"catalogue/category/books/add-a-comment_18/index.html\">\n                            \n                                Add a comment\n                            \n                        </a>, <a href=\"catalogue/category/books/fantasy_19/index.html\">\n                            \n                                Fantasy\n                            \n                        </a>, <a href=\"catalogue/category/books/new-adult_20/index.html\">\n                            \n                                New Adult\n                            \n                        </a>, <a href=\"catalogue/category/books/young-adult_21/index.html\">\n                            \n                                Young Adult\n                            \n                        </a>, <a href=\"catalogue/category/books/science_22/index.html\">\n                            \n                                Science\n                            \n                        </a>, <a href=\"catalogue/category/books/poetry_23/index.html\">\n                            \n                                Poetry\n                            \n                        </a>, <a href=\"catalogue/category/books/paranormal_24/index.html\">\n                            \n                                Paranormal\n                            \n                        </a>, <a href=\"catalogue/category/books/art_25/index.html\">\n                            \n                                Art\n                            \n                        </a>, <a href=\"catalogue/category/books/psychology_26/index.html\">\n                            \n                                Psychology\n                            \n                        </a>, <a href=\"catalogue/category/books/autobiography_27/index.html\">\n                            \n                                Autobiography\n                            \n                        </a>, <a href=\"catalogue/category/books/parenting_28/index.html\">\n                            \n                                Parenting\n                            \n                        </a>, <a href=\"catalogue/category/books/adult-fiction_29/index.html\">\n                            \n                                Adult Fiction\n                            \n                        </a>, <a href=\"catalogue/category/books/humor_30/index.html\">\n                            \n                                Humor\n                            \n                        </a>, <a href=\"catalogue/category/books/horror_31/index.html\">\n                            \n                                Horror\n                            \n                        </a>, <a href=\"catalogue/category/books/history_32/index.html\">\n                            \n                                History\n                            \n                        </a>, <a href=\"catalogue/category/books/food-and-drink_33/index.html\">\n                            \n                                Food and Drink\n                            \n                        </a>, <a href=\"catalogue/category/books/christian-fiction_34/index.html\">\n                            \n                                Christian Fiction\n                            \n                        </a>, <a href=\"catalogue/category/books/business_35/index.html\">\n                            \n                                Business\n                            \n                        </a>, <a href=\"catalogue/category/books/biography_36/index.html\">\n                            \n                                Biography\n                            \n                        </a>, <a href=\"catalogue/category/books/thriller_37/index.html\">\n                            \n                                Thriller\n                            \n                        </a>, <a href=\"catalogue/category/books/contemporary_38/index.html\">\n                            \n                                Contemporary\n                            \n                        </a>, <a href=\"catalogue/category/books/spirituality_39/index.html\">\n                            \n                                Spirituality\n                            \n                        </a>, <a href=\"catalogue/category/books/academic_40/index.html\">\n                            \n                                Academic\n                            \n                        </a>, <a href=\"catalogue/category/books/self-help_41/index.html\">\n                            \n                                Self Help\n                            \n                        </a>, <a href=\"catalogue/category/books/historical_42/index.html\">\n                            \n                                Historical\n                            \n                        </a>, <a href=\"catalogue/category/books/christian_43/index.html\">\n                            \n                                Christian\n                            \n                        </a>, <a href=\"catalogue/category/books/suspense_44/index.html\">\n                            \n                                Suspense\n                            \n                        </a>, <a href=\"catalogue/category/books/short-stories_45/index.html\">\n                            \n                                Short Stories\n                            \n                        </a>, <a href=\"catalogue/category/books/novels_46/index.html\">\n                            \n                                Novels\n                            \n                        </a>, <a href=\"catalogue/category/books/health_47/index.html\">\n                            \n                                Health\n                            \n                        </a>, <a href=\"catalogue/category/books/politics_48/index.html\">\n                            \n                                Politics\n                            \n                        </a>, <a href=\"catalogue/category/books/cultural_49/index.html\">\n                            \n                                Cultural\n                            \n                        </a>, <a href=\"catalogue/category/books/erotica_50/index.html\">\n                            \n                                Erotica\n                            \n                        </a>, <a href=\"catalogue/category/books/crime_51/index.html\">\n                            \n                                Crime\n                            \n                        </a>]\n"
    }
   ],
   "source": [
    "for x in range(1, 2):\n",
    "   html = browser.html\n",
    "   soup = BeautifulSoup (html, 'html.parser')\n",
    "   books = soup.find_all('div', class_='side_categories')\n",
    "   for book in books:\n",
    "      titles = book.find_all('a', href=True)\n",
    "      print(titles)\n",
    "   browser.links.find_by_partial_text('Next')\n",
    "\n"
   ]
  }
 ]
}